{
  "cells": [
    {
      "cell_type": "markdown",
      "metadata": {
        "id": "2YKrAjvIjyOP"
      },
      "source": [
        "**Here's a Python-based approach using OpenCV:**\n",
        "\n",
        "**1. Set up environment:**\n",
        "\n",
        "- **Install OpenCV:**\n",
        "  ```bash\n",
        "  pip install opencv-python\n",
        "  ```\n",
        "\n",
        "**2. Create a Python script:**\n",
        "\n",
        "- **Import necessary libraries:**"
      ]
    },
    {
      "cell_type": "code",
      "execution_count": null,
      "metadata": {
        "colab": {
          "base_uri": "https://localhost:8080/"
        },
        "id": "7T8wpZLFlutn",
        "outputId": "456d7ad2-388f-461a-c006-56d7cef30937"
      },
      "outputs": [
        {
          "name": "stdout",
          "output_type": "stream",
          "text": [
            "Requirement already satisfied: opencv-python in /usr/local/lib/python3.10/dist-packages (4.8.0.76)\n",
            "Requirement already satisfied: numpy>=1.21.2 in /usr/local/lib/python3.10/dist-packages (from opencv-python) (1.23.5)\n"
          ]
        }
      ],
      "source": [
        "# prompt: pip installs\n",
        "\n",
        "%pip install opencv-python\n"
      ]
    },
    {
      "cell_type": "code",
      "execution_count": null,
      "metadata": {
        "id": "9qUHSK0kjyOb"
      },
      "outputs": [],
      "source": [
        "import cv2\n",
        "import os"
      ]
    },
    {
      "cell_type": "markdown",
      "metadata": {
        "id": "Cpm0WgwZjyOe"
      },
      "source": [
        "- **Load images:**"
      ]
    },
    {
      "cell_type": "code",
      "execution_count": null,
      "metadata": {
        "id": "hxcwkI7LjyOf"
      },
      "outputs": [],
      "source": [
        "image_dir = '/content/drive/MyDrive/Awesome Screenshot'\n",
        "image_paths = [os.path.join(image_dir, filename) for filename in os.listdir(image_dir)]"
      ]
    },
    {
      "cell_type": "markdown",
      "metadata": {
        "id": "1nwWhUn-jyOg"
      },
      "source": [
        "- **Define \"blankly yellow\" criteria:**\n",
        "\n",
        "  - **Using pixel variance:**"
      ]
    },
    {
      "cell_type": "code",
      "execution_count": null,
      "metadata": {
        "id": "VNdPIHfqjyOh"
      },
      "outputs": [],
      "source": [
        "def is_blankly_yellow(image):\n",
        "      image_hsv = cv2.cvtColor(image, cv2.COLOR_BGR2HSV)\n",
        "      yellow_mask = cv2.inRange(image_hsv, (20, 100, 100), (30, 255, 255))  # Adjust HSV ranges as needed\n",
        "      yellow_pixels = cv2.countNonZero(yellow_mask)\n",
        "      total_pixels = image.shape[0] * image.shape[1]\n",
        "      yellow_ratio = yellow_pixels / total_pixels\n",
        "      return yellow_ratio > 0.65  # Adjust threshold as needed"
      ]
    },
    {
      "cell_type": "markdown",
      "metadata": {
        "id": "FeyZa32ajyOi"
      },
      "source": [
        "**3. Filter images:**\n",
        "\n",
        "- **Iterate and apply criteria:**"
      ]
    },
    {
      "cell_type": "code",
      "execution_count": null,
      "metadata": {
        "colab": {
          "base_uri": "https://localhost:8080/"
        },
        "id": "X92wRH_wjyOj",
        "outputId": "f9ce5419-89bf-4b4e-e945-b1c3691f34f3"
      },
      "outputs": [
        {
          "name": "stdout",
          "output_type": "stream",
          "text": [
            "other: /content/drive/MyDrive/Awesome Screenshot/Juice wrld – bethuel and elton’s music.png\n",
            "other: /content/drive/MyDrive/Awesome Screenshot/Games – Bethuel and Elton’s games.jpg\n",
            "other: /content/drive/MyDrive/Awesome Screenshot/Bethro speed editor.jpg\n",
            "other: /content/drive/MyDrive/Awesome Screenshot/bethlton movie.jpg\n",
            "other: /content/drive/MyDrive/Awesome Screenshot/Todo list app.jpg\n",
            "other: /content/drive/MyDrive/Awesome Screenshot/Current Weather.jpg\n",
            "other: /content/drive/MyDrive/Awesome Screenshot/bethlton countries.jpg\n",
            "other: /content/drive/MyDrive/Awesome Screenshot/bgames.bethlton.ga.jpg\n",
            "other: /content/drive/MyDrive/Awesome Screenshot/index.html.png\n",
            "other: /content/drive/MyDrive/Awesome Screenshot/Meta Tags — Preview, Edit and Generate.jpg\n",
            "other: /content/drive/MyDrive/Awesome Screenshot/Getting Started Tutorial - Google Chrome.jpg\n",
            "other: /content/drive/MyDrive/Awesome Screenshot/My IQ Test Score - 130.png\n",
            "other: /content/drive/MyDrive/Awesome Screenshot/suplike messages.png\n",
            "other: /content/drive/MyDrive/Awesome Screenshot/Firefox_Screenshot_2021-12-22T09-22-47.053Z.png\n",
            "other: /content/drive/MyDrive/Awesome Screenshot/Firefox_Screenshot_2021-12-22T09-28-09.430Z.png\n",
            "yellow: /content/drive/MyDrive/Awesome Screenshot/aadi_screenshot.png\n",
            "yellow: /content/drive/MyDrive/Awesome Screenshot/aadarshksingh_screenshot.png\n",
            "yellow: /content/drive/MyDrive/Awesome Screenshot/a1x5h04_screenshot.png\n",
            "yellow: /content/drive/MyDrive/Awesome Screenshot/aakashcse_screenshot.png\n",
            "yellow: /content/drive/MyDrive/Awesome Screenshot/aakash_screenshot.png\n",
            "yellow: /content/drive/MyDrive/Awesome Screenshot/aakanksha_screenshot.png\n"
          ]
        }
      ],
      "source": [
        "filtered_images = []\n",
        "for image_path in image_paths:\n",
        "  image = cv2.imread(image_path)\n",
        "  if not is_blankly_yellow(image):\n",
        "    filtered_images.append(image)\n",
        "    print(f\"other: {image_path}\")\n",
        "  else:\n",
        "    print(f\"yellow: {image_path}\")"
      ]
    },
    {
      "cell_type": "code",
      "execution_count": null,
      "metadata": {
        "id": "KIPE7xholH9q"
      },
      "outputs": [],
      "source": [
        "# prompt:\n",
        "\n",
        "\n",
        "# - **Save filtered images:**\n",
        "filtered_image_dir = '/content/drive/MyDrive/Filtered Images'\n",
        "if not os.path.exists(filtered_image_dir):\n",
        "  os.makedirs(filtered_image_dir)\n",
        "for image in filtered_images:\n",
        "  image_name = os.path.basename(image_path)\n",
        "  filtered_image_path = os.path.join(filtered_image_dir, image_name)\n",
        "  cv2.imwrite(filtered_image_path, image)\n"
      ]
    },
    {
      "cell_type": "markdown",
      "metadata": {
        "id": "D8hT3y8WjyOk"
      },
      "source": [
        "**Remember:**\n",
        "\n",
        "- Experiment with different HSV ranges and thresholds to refine yellow detection.\n",
        "- Explore OpenCV's image processing functions for more advanced tasks.\n",
        "- Consider performance optimization for large image sets."
      ]
    }
  ],
  "metadata": {
    "colab": {
      "provenance": []
    },
    "kernelspec": {
      "display_name": "Python 3",
      "name": "python3"
    }
  },
  "nbformat": 4,
  "nbformat_minor": 0
}
